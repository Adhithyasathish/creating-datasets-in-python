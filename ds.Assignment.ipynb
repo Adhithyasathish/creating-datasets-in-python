{
 "cells": [
  {
   "cell_type": "code",
   "execution_count": 81,
   "id": "1ae14d4c",
   "metadata": {},
   "outputs": [],
   "source": [
    "import numpy as np\n",
    "import pandas as pd\n",
    "import seaborn as sns\n",
    "import matplotlib.pyplot as plt "
   ]
  },
  {
   "cell_type": "code",
   "execution_count": 82,
   "id": "e2379a46",
   "metadata": {},
   "outputs": [],
   "source": [
    "ds=pd.DataFrame({'Rollno':[1,2,3,4,5],'Name':['Adhi','Arya','Sai','Vinay','Sudarshan'],'Dept':['cse','ece','eee','mech','it'],'Mark':['93','95','86','98','87'],'location':['Chennai','Anna nagar','Alandur','Avadi','Adyar']})"
   ]
  },
  {
   "cell_type": "code",
   "execution_count": 83,
   "id": "7afe75e7",
   "metadata": {},
   "outputs": [
    {
     "data": {
      "text/html": [
       "<div>\n",
       "<style scoped>\n",
       "    .dataframe tbody tr th:only-of-type {\n",
       "        vertical-align: middle;\n",
       "    }\n",
       "\n",
       "    .dataframe tbody tr th {\n",
       "        vertical-align: top;\n",
       "    }\n",
       "\n",
       "    .dataframe thead th {\n",
       "        text-align: right;\n",
       "    }\n",
       "</style>\n",
       "<table border=\"1\" class=\"dataframe\">\n",
       "  <thead>\n",
       "    <tr style=\"text-align: right;\">\n",
       "      <th></th>\n",
       "      <th>Rollno</th>\n",
       "      <th>Name</th>\n",
       "      <th>Dept</th>\n",
       "      <th>Mark</th>\n",
       "      <th>location</th>\n",
       "    </tr>\n",
       "  </thead>\n",
       "  <tbody>\n",
       "    <tr>\n",
       "      <th>0</th>\n",
       "      <td>1</td>\n",
       "      <td>Adhi</td>\n",
       "      <td>cse</td>\n",
       "      <td>93</td>\n",
       "      <td>Chennai</td>\n",
       "    </tr>\n",
       "    <tr>\n",
       "      <th>1</th>\n",
       "      <td>2</td>\n",
       "      <td>Arya</td>\n",
       "      <td>ece</td>\n",
       "      <td>95</td>\n",
       "      <td>Anna nagar</td>\n",
       "    </tr>\n",
       "    <tr>\n",
       "      <th>2</th>\n",
       "      <td>3</td>\n",
       "      <td>Sai</td>\n",
       "      <td>eee</td>\n",
       "      <td>86</td>\n",
       "      <td>Alandur</td>\n",
       "    </tr>\n",
       "    <tr>\n",
       "      <th>3</th>\n",
       "      <td>4</td>\n",
       "      <td>Vinay</td>\n",
       "      <td>mech</td>\n",
       "      <td>98</td>\n",
       "      <td>Avadi</td>\n",
       "    </tr>\n",
       "    <tr>\n",
       "      <th>4</th>\n",
       "      <td>5</td>\n",
       "      <td>Sudarshan</td>\n",
       "      <td>it</td>\n",
       "      <td>87</td>\n",
       "      <td>Adyar</td>\n",
       "    </tr>\n",
       "  </tbody>\n",
       "</table>\n",
       "</div>"
      ],
      "text/plain": [
       "   Rollno       Name  Dept Mark    location\n",
       "0       1       Adhi   cse   93     Chennai\n",
       "1       2       Arya   ece   95  Anna nagar\n",
       "2       3        Sai   eee   86     Alandur\n",
       "3       4      Vinay  mech   98       Avadi\n",
       "4       5  Sudarshan    it   87       Adyar"
      ]
     },
     "execution_count": 83,
     "metadata": {},
     "output_type": "execute_result"
    }
   ],
   "source": [
    "ds"
   ]
  },
  {
   "cell_type": "code",
   "execution_count": 84,
   "id": "c878cb91",
   "metadata": {},
   "outputs": [
    {
     "data": {
      "text/html": [
       "<div>\n",
       "<style scoped>\n",
       "    .dataframe tbody tr th:only-of-type {\n",
       "        vertical-align: middle;\n",
       "    }\n",
       "\n",
       "    .dataframe tbody tr th {\n",
       "        vertical-align: top;\n",
       "    }\n",
       "\n",
       "    .dataframe thead th {\n",
       "        text-align: right;\n",
       "    }\n",
       "</style>\n",
       "<table border=\"1\" class=\"dataframe\">\n",
       "  <thead>\n",
       "    <tr style=\"text-align: right;\">\n",
       "      <th></th>\n",
       "      <th>Rollno</th>\n",
       "      <th>Name</th>\n",
       "      <th>Dept</th>\n",
       "      <th>Mark</th>\n",
       "      <th>location</th>\n",
       "    </tr>\n",
       "  </thead>\n",
       "  <tbody>\n",
       "    <tr>\n",
       "      <th>0</th>\n",
       "      <td>1</td>\n",
       "      <td>Adhi</td>\n",
       "      <td>cse</td>\n",
       "      <td>93</td>\n",
       "      <td>Chennai</td>\n",
       "    </tr>\n",
       "    <tr>\n",
       "      <th>1</th>\n",
       "      <td>2</td>\n",
       "      <td>Arya</td>\n",
       "      <td>ece</td>\n",
       "      <td>95</td>\n",
       "      <td>Anna nagar</td>\n",
       "    </tr>\n",
       "    <tr>\n",
       "      <th>2</th>\n",
       "      <td>3</td>\n",
       "      <td>Sai</td>\n",
       "      <td>eee</td>\n",
       "      <td>86</td>\n",
       "      <td>Alandur</td>\n",
       "    </tr>\n",
       "  </tbody>\n",
       "</table>\n",
       "</div>"
      ],
      "text/plain": [
       "   Rollno  Name Dept Mark    location\n",
       "0       1  Adhi  cse   93     Chennai\n",
       "1       2  Arya  ece   95  Anna nagar\n",
       "2       3   Sai  eee   86     Alandur"
      ]
     },
     "execution_count": 84,
     "metadata": {},
     "output_type": "execute_result"
    }
   ],
   "source": [
    "ds.head(3)\n",
    "#to display no of rows"
   ]
  },
  {
   "cell_type": "code",
   "execution_count": 85,
   "id": "0ed90cc9",
   "metadata": {},
   "outputs": [
    {
     "data": {
      "text/html": [
       "<div>\n",
       "<style scoped>\n",
       "    .dataframe tbody tr th:only-of-type {\n",
       "        vertical-align: middle;\n",
       "    }\n",
       "\n",
       "    .dataframe tbody tr th {\n",
       "        vertical-align: top;\n",
       "    }\n",
       "\n",
       "    .dataframe thead th {\n",
       "        text-align: right;\n",
       "    }\n",
       "</style>\n",
       "<table border=\"1\" class=\"dataframe\">\n",
       "  <thead>\n",
       "    <tr style=\"text-align: right;\">\n",
       "      <th></th>\n",
       "      <th>Reg No</th>\n",
       "      <th>Name</th>\n",
       "      <th>Dept</th>\n",
       "      <th>Mark</th>\n",
       "      <th>location</th>\n",
       "    </tr>\n",
       "  </thead>\n",
       "  <tbody>\n",
       "    <tr>\n",
       "      <th>0</th>\n",
       "      <td>1</td>\n",
       "      <td>Adhi</td>\n",
       "      <td>cse</td>\n",
       "      <td>93</td>\n",
       "      <td>Chennai</td>\n",
       "    </tr>\n",
       "    <tr>\n",
       "      <th>1</th>\n",
       "      <td>2</td>\n",
       "      <td>Arya</td>\n",
       "      <td>ece</td>\n",
       "      <td>95</td>\n",
       "      <td>Anna nagar</td>\n",
       "    </tr>\n",
       "    <tr>\n",
       "      <th>2</th>\n",
       "      <td>3</td>\n",
       "      <td>Sai</td>\n",
       "      <td>eee</td>\n",
       "      <td>86</td>\n",
       "      <td>Alandur</td>\n",
       "    </tr>\n",
       "    <tr>\n",
       "      <th>3</th>\n",
       "      <td>4</td>\n",
       "      <td>Vinay</td>\n",
       "      <td>mech</td>\n",
       "      <td>98</td>\n",
       "      <td>Avadi</td>\n",
       "    </tr>\n",
       "    <tr>\n",
       "      <th>4</th>\n",
       "      <td>5</td>\n",
       "      <td>Sudarshan</td>\n",
       "      <td>it</td>\n",
       "      <td>87</td>\n",
       "      <td>Adyar</td>\n",
       "    </tr>\n",
       "  </tbody>\n",
       "</table>\n",
       "</div>"
      ],
      "text/plain": [
       "   Reg No       Name  Dept Mark    location\n",
       "0       1       Adhi   cse   93     Chennai\n",
       "1       2       Arya   ece   95  Anna nagar\n",
       "2       3        Sai   eee   86     Alandur\n",
       "3       4      Vinay  mech   98       Avadi\n",
       "4       5  Sudarshan    it   87       Adyar"
      ]
     },
     "execution_count": 85,
     "metadata": {},
     "output_type": "execute_result"
    }
   ],
   "source": [
    "ds.rename(columns={'Rollno':'Reg No'})"
   ]
  },
  {
   "cell_type": "code",
   "execution_count": 86,
   "id": "93af1a8c",
   "metadata": {},
   "outputs": [
    {
     "data": {
      "text/html": [
       "<div>\n",
       "<style scoped>\n",
       "    .dataframe tbody tr th:only-of-type {\n",
       "        vertical-align: middle;\n",
       "    }\n",
       "\n",
       "    .dataframe tbody tr th {\n",
       "        vertical-align: top;\n",
       "    }\n",
       "\n",
       "    .dataframe thead th {\n",
       "        text-align: right;\n",
       "    }\n",
       "</style>\n",
       "<table border=\"1\" class=\"dataframe\">\n",
       "  <thead>\n",
       "    <tr style=\"text-align: right;\">\n",
       "      <th></th>\n",
       "      <th>Rollno</th>\n",
       "      <th>Name</th>\n",
       "      <th>Dept</th>\n",
       "      <th>Mark</th>\n",
       "    </tr>\n",
       "  </thead>\n",
       "  <tbody>\n",
       "    <tr>\n",
       "      <th>0</th>\n",
       "      <td>1</td>\n",
       "      <td>Adhi</td>\n",
       "      <td>cse</td>\n",
       "      <td>93</td>\n",
       "    </tr>\n",
       "    <tr>\n",
       "      <th>1</th>\n",
       "      <td>2</td>\n",
       "      <td>Arya</td>\n",
       "      <td>ece</td>\n",
       "      <td>95</td>\n",
       "    </tr>\n",
       "    <tr>\n",
       "      <th>2</th>\n",
       "      <td>3</td>\n",
       "      <td>Sai</td>\n",
       "      <td>eee</td>\n",
       "      <td>86</td>\n",
       "    </tr>\n",
       "    <tr>\n",
       "      <th>3</th>\n",
       "      <td>4</td>\n",
       "      <td>Vinay</td>\n",
       "      <td>mech</td>\n",
       "      <td>98</td>\n",
       "    </tr>\n",
       "    <tr>\n",
       "      <th>4</th>\n",
       "      <td>5</td>\n",
       "      <td>Sudarshan</td>\n",
       "      <td>it</td>\n",
       "      <td>87</td>\n",
       "    </tr>\n",
       "  </tbody>\n",
       "</table>\n",
       "</div>"
      ],
      "text/plain": [
       "   Rollno       Name  Dept Mark\n",
       "0       1       Adhi   cse   93\n",
       "1       2       Arya   ece   95\n",
       "2       3        Sai   eee   86\n",
       "3       4      Vinay  mech   98\n",
       "4       5  Sudarshan    it   87"
      ]
     },
     "execution_count": 86,
     "metadata": {},
     "output_type": "execute_result"
    }
   ],
   "source": [
    "ds.drop(columns={'location'})\n",
    "#to delete the particular columns"
   ]
  },
  {
   "cell_type": "code",
   "execution_count": 87,
   "id": "0bf11a72",
   "metadata": {},
   "outputs": [],
   "source": [
    "#Insert new coloum as GPA\n",
    "ds.insert(5,'GPA',93)"
   ]
  },
  {
   "cell_type": "code",
   "execution_count": 88,
   "id": "6d645a37",
   "metadata": {},
   "outputs": [
    {
     "data": {
      "text/html": [
       "<div>\n",
       "<style scoped>\n",
       "    .dataframe tbody tr th:only-of-type {\n",
       "        vertical-align: middle;\n",
       "    }\n",
       "\n",
       "    .dataframe tbody tr th {\n",
       "        vertical-align: top;\n",
       "    }\n",
       "\n",
       "    .dataframe thead th {\n",
       "        text-align: right;\n",
       "    }\n",
       "</style>\n",
       "<table border=\"1\" class=\"dataframe\">\n",
       "  <thead>\n",
       "    <tr style=\"text-align: right;\">\n",
       "      <th></th>\n",
       "      <th>Rollno</th>\n",
       "      <th>Name</th>\n",
       "      <th>Dept</th>\n",
       "      <th>Mark</th>\n",
       "      <th>location</th>\n",
       "      <th>GPA</th>\n",
       "    </tr>\n",
       "  </thead>\n",
       "  <tbody>\n",
       "    <tr>\n",
       "      <th>2</th>\n",
       "      <td>3</td>\n",
       "      <td>Sai</td>\n",
       "      <td>eee</td>\n",
       "      <td>86</td>\n",
       "      <td>Alandur</td>\n",
       "      <td>93</td>\n",
       "    </tr>\n",
       "    <tr>\n",
       "      <th>4</th>\n",
       "      <td>5</td>\n",
       "      <td>Sudarshan</td>\n",
       "      <td>it</td>\n",
       "      <td>87</td>\n",
       "      <td>Adyar</td>\n",
       "      <td>93</td>\n",
       "    </tr>\n",
       "    <tr>\n",
       "      <th>0</th>\n",
       "      <td>1</td>\n",
       "      <td>Adhi</td>\n",
       "      <td>cse</td>\n",
       "      <td>93</td>\n",
       "      <td>Chennai</td>\n",
       "      <td>93</td>\n",
       "    </tr>\n",
       "    <tr>\n",
       "      <th>1</th>\n",
       "      <td>2</td>\n",
       "      <td>Arya</td>\n",
       "      <td>ece</td>\n",
       "      <td>95</td>\n",
       "      <td>Anna nagar</td>\n",
       "      <td>93</td>\n",
       "    </tr>\n",
       "    <tr>\n",
       "      <th>3</th>\n",
       "      <td>4</td>\n",
       "      <td>Vinay</td>\n",
       "      <td>mech</td>\n",
       "      <td>98</td>\n",
       "      <td>Avadi</td>\n",
       "      <td>93</td>\n",
       "    </tr>\n",
       "  </tbody>\n",
       "</table>\n",
       "</div>"
      ],
      "text/plain": [
       "   Rollno       Name  Dept Mark    location  GPA\n",
       "2       3        Sai   eee   86     Alandur   93\n",
       "4       5  Sudarshan    it   87       Adyar   93\n",
       "0       1       Adhi   cse   93     Chennai   93\n",
       "1       2       Arya   ece   95  Anna nagar   93\n",
       "3       4      Vinay  mech   98       Avadi   93"
      ]
     },
     "execution_count": 88,
     "metadata": {},
     "output_type": "execute_result"
    }
   ],
   "source": [
    "ds.sort_values('Mark')"
   ]
  },
  {
   "cell_type": "code",
   "execution_count": 89,
   "id": "fb1c4598",
   "metadata": {},
   "outputs": [
    {
     "data": {
      "text/plain": [
       "Rollno      0\n",
       "Name        0\n",
       "Dept        0\n",
       "Mark        0\n",
       "location    0\n",
       "GPA         0\n",
       "dtype: int64"
      ]
     },
     "execution_count": 89,
     "metadata": {},
     "output_type": "execute_result"
    }
   ],
   "source": [
    "#Sum of null values\n",
    "ds.isna().sum()"
   ]
  },
  {
   "cell_type": "code",
   "execution_count": 90,
   "id": "7b5dcf2b",
   "metadata": {},
   "outputs": [
    {
     "data": {
      "text/plain": [
       "'9395869887'"
      ]
     },
     "execution_count": 90,
     "metadata": {},
     "output_type": "execute_result"
    }
   ],
   "source": [
    "#To display mark\n",
    "ds.Mark.sum()"
   ]
  },
  {
   "cell_type": "code",
   "execution_count": 91,
   "id": "a565d4b5",
   "metadata": {},
   "outputs": [
    {
     "data": {
      "text/plain": [
       "1879173977.4"
      ]
     },
     "execution_count": 91,
     "metadata": {},
     "output_type": "execute_result"
    }
   ],
   "source": [
    "#To display mean\n",
    "ds.Mark.mean()"
   ]
  },
  {
   "cell_type": "code",
   "execution_count": 92,
   "id": "1a2df73b",
   "metadata": {},
   "outputs": [
    {
     "data": {
      "text/plain": [
       "'86'"
      ]
     },
     "execution_count": 92,
     "metadata": {},
     "output_type": "execute_result"
    }
   ],
   "source": [
    "ds.Mark.min()"
   ]
  },
  {
   "cell_type": "code",
   "execution_count": 93,
   "id": "2a1233cd",
   "metadata": {},
   "outputs": [
    {
     "data": {
      "text/plain": [
       "'98'"
      ]
     },
     "execution_count": 93,
     "metadata": {},
     "output_type": "execute_result"
    }
   ],
   "source": [
    "ds.Mark.max()"
   ]
  },
  {
   "cell_type": "code",
   "execution_count": 94,
   "id": "629afdb3",
   "metadata": {},
   "outputs": [],
   "source": [
    "subset=ds[['Name','Dept','Mark']]"
   ]
  },
  {
   "cell_type": "code",
   "execution_count": 95,
   "id": "4d06ffdd",
   "metadata": {},
   "outputs": [
    {
     "data": {
      "text/html": [
       "<div>\n",
       "<style scoped>\n",
       "    .dataframe tbody tr th:only-of-type {\n",
       "        vertical-align: middle;\n",
       "    }\n",
       "\n",
       "    .dataframe tbody tr th {\n",
       "        vertical-align: top;\n",
       "    }\n",
       "\n",
       "    .dataframe thead th {\n",
       "        text-align: right;\n",
       "    }\n",
       "</style>\n",
       "<table border=\"1\" class=\"dataframe\">\n",
       "  <thead>\n",
       "    <tr style=\"text-align: right;\">\n",
       "      <th></th>\n",
       "      <th>Name</th>\n",
       "      <th>Dept</th>\n",
       "      <th>Mark</th>\n",
       "    </tr>\n",
       "  </thead>\n",
       "  <tbody>\n",
       "    <tr>\n",
       "      <th>0</th>\n",
       "      <td>Adhi</td>\n",
       "      <td>cse</td>\n",
       "      <td>93</td>\n",
       "    </tr>\n",
       "    <tr>\n",
       "      <th>1</th>\n",
       "      <td>Arya</td>\n",
       "      <td>ece</td>\n",
       "      <td>95</td>\n",
       "    </tr>\n",
       "    <tr>\n",
       "      <th>2</th>\n",
       "      <td>Sai</td>\n",
       "      <td>eee</td>\n",
       "      <td>86</td>\n",
       "    </tr>\n",
       "    <tr>\n",
       "      <th>3</th>\n",
       "      <td>Vinay</td>\n",
       "      <td>mech</td>\n",
       "      <td>98</td>\n",
       "    </tr>\n",
       "    <tr>\n",
       "      <th>4</th>\n",
       "      <td>Sudarshan</td>\n",
       "      <td>it</td>\n",
       "      <td>87</td>\n",
       "    </tr>\n",
       "  </tbody>\n",
       "</table>\n",
       "</div>"
      ],
      "text/plain": [
       "        Name  Dept Mark\n",
       "0       Adhi   cse   93\n",
       "1       Arya   ece   95\n",
       "2        Sai   eee   86\n",
       "3      Vinay  mech   98\n",
       "4  Sudarshan    it   87"
      ]
     },
     "execution_count": 95,
     "metadata": {},
     "output_type": "execute_result"
    }
   ],
   "source": [
    "subset"
   ]
  },
  {
   "cell_type": "code",
   "execution_count": 96,
   "id": "c2aeb009",
   "metadata": {},
   "outputs": [
    {
     "data": {
      "text/plain": [
       "<AxesSubplot:xlabel='Dept', ylabel='Mark'>"
      ]
     },
     "execution_count": 96,
     "metadata": {},
     "output_type": "execute_result"
    },
    {
     "data": {
      "image/png": "[encoded data removed]",
      "text/plain": [
       "<Figure size 640x480 with 1 Axes>"
      ]
     },
     "metadata": {},
     "output_type": "display_data"
    }
   ],
   "source": [
    "sns.lineplot(x='Dept',y='Mark',data=ds)"
   ]
  },
  {
   "cell_type": "code",
   "execution_count": 97,
   "id": "038fdcce",
   "metadata": {},
   "outputs": [
    {
     "data": {
      "text/plain": [
       "<AxesSubplot:xlabel='Dept', ylabel='Mark'>"
      ]
     },
     "execution_count": 97,
     "metadata": {},
     "output_type": "execute_result"
    },
    {
     "data": {
      "image/png": "[encoded data removed]",
      "text/plain": [
       "<Figure size 640x480 with 1 Axes>"
      ]
     },
     "metadata": {},
     "output_type": "display_data"
    }
   ],
   "source": [
    "sns.scatterplot(x='Dept',y='Mark',data=ds)"
   ]
  },
  {
   "cell_type": "code",
   "execution_count": null,
   "id": "3de3cbf7",
   "metadata": {},
   "outputs": [],
   "source": []
  },
  {
   "cell_type": "code",
   "execution_count": null,
   "id": "6fc7d659",
   "metadata": {},
   "outputs": [],
   "source": []
  }
 ],
 "metadata": {
  "kernelspec": {
   "display_name": "Python 3 (ipykernel)",
   "language": "python",
   "name": "python3"
  },
  "language_info": {
   "codemirror_mode": {
    "name": "ipython",
    "version": 3
   },
   "file_extension": ".py",
   "mimetype": "text/x-python",
   "name": "python",
   "nbconvert_exporter": "python",
   "pygments_lexer": "ipython3",
   "version": "3.9.13"
  }
 },
 "nbformat": 4,
 "nbformat_minor": 5
}
